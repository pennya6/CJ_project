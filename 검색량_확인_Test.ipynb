{
  "nbformat": 4,
  "nbformat_minor": 0,
  "metadata": {
    "colab": {
      "name": "검색량 확인_Test.ipynb",
      "provenance": [],
      "collapsed_sections": [],
      "authorship_tag": "ABX9TyP1eECm3MBbmkV2DI8QY6d2",
      "include_colab_link": true
    },
    "kernelspec": {
      "name": "python3",
      "display_name": "Python 3"
    },
    "language_info": {
      "name": "python"
    }
  },
  "cells": [
    {
      "cell_type": "markdown",
      "metadata": {
        "id": "view-in-github",
        "colab_type": "text"
      },
      "source": [
        "<a href=\"https://colab.research.google.com/github/pennya6/CJ_project/blob/main/%EA%B2%80%EC%83%89%EB%9F%89_%ED%99%95%EC%9D%B8_Test.ipynb\" target=\"_parent\"><img src=\"https://colab.research.google.com/assets/colab-badge.svg\" alt=\"Open In Colab\"/></a>"
      ]
    },
    {
      "cell_type": "code",
      "metadata": {
        "colab": {
          "base_uri": "https://localhost:8080/"
        },
        "id": "XJJJ8-_rcD9i",
        "outputId": "71a184ff-e336-404f-a480-ddc632692138"
      },
      "source": [
        "from google.colab import drive\n",
        "drive.mount('/content/drive')"
      ],
      "execution_count": 1,
      "outputs": [
        {
          "output_type": "stream",
          "name": "stdout",
          "text": [
            "Mounted at /content/drive\n"
          ]
        }
      ]
    },
    {
      "cell_type": "code",
      "metadata": {
        "id": "rKexPZ_EcHQ9"
      },
      "source": [
        "import pandas as pd"
      ],
      "execution_count": 2,
      "outputs": []
    },
    {
      "cell_type": "code",
      "metadata": {
        "id": "CBS31URacHTi"
      },
      "source": [
        "top10=pd.read_csv(\"/content/drive/Shareddrives/2021 CJ 대한통운 공모전/data/crawling_data/top10/TOP10.csv\")"
      ],
      "execution_count": 3,
      "outputs": []
    },
    {
      "cell_type": "code",
      "metadata": {
        "colab": {
          "base_uri": "https://localhost:8080/",
          "height": 784
        },
        "id": "eWkMx78WcHW_",
        "outputId": "6d1fbbfe-67be-4a78-84c1-658850b9acb4"
      },
      "source": [
        "top10"
      ],
      "execution_count": 4,
      "outputs": [
        {
          "output_type": "execute_result",
          "data": {
            "text/html": [
              "<div>\n",
              "<style scoped>\n",
              "    .dataframe tbody tr th:only-of-type {\n",
              "        vertical-align: middle;\n",
              "    }\n",
              "\n",
              "    .dataframe tbody tr th {\n",
              "        vertical-align: top;\n",
              "    }\n",
              "\n",
              "    .dataframe thead th {\n",
              "        text-align: right;\n",
              "    }\n",
              "</style>\n",
              "<table border=\"1\" class=\"dataframe\">\n",
              "  <thead>\n",
              "    <tr style=\"text-align: right;\">\n",
              "      <th></th>\n",
              "      <th>Unnamed: 0</th>\n",
              "      <th>순위</th>\n",
              "      <th>가구</th>\n",
              "      <th>디지털</th>\n",
              "      <th>면세점</th>\n",
              "      <th>생활건강</th>\n",
              "      <th>스포츠레저</th>\n",
              "      <th>식품</th>\n",
              "      <th>여가생활편의</th>\n",
              "      <th>패션잡화</th>\n",
              "      <th>패션의류</th>\n",
              "      <th>출산육아</th>\n",
              "      <th>화장품미용</th>\n",
              "    </tr>\n",
              "  </thead>\n",
              "  <tbody>\n",
              "    <tr>\n",
              "      <th>0</th>\n",
              "      <td>0</td>\n",
              "      <td>1</td>\n",
              "      <td>책상</td>\n",
              "      <td>마우스</td>\n",
              "      <td>불리목욕하는여인</td>\n",
              "      <td>마스크</td>\n",
              "      <td>여성골프웨어</td>\n",
              "      <td>닭가슴살</td>\n",
              "      <td>제주렌트카</td>\n",
              "      <td>나이키데이브레이크</td>\n",
              "      <td>원피스</td>\n",
              "      <td>크록스키즈</td>\n",
              "      <td>바디미스트</td>\n",
              "    </tr>\n",
              "    <tr>\n",
              "      <th>1</th>\n",
              "      <td>1</td>\n",
              "      <td>2</td>\n",
              "      <td>화장대</td>\n",
              "      <td>무선키보드세트</td>\n",
              "      <td>아크메드라비반팔</td>\n",
              "      <td>kf94마스크</td>\n",
              "      <td>등산화</td>\n",
              "      <td>미역국수</td>\n",
              "      <td>문화상품권</td>\n",
              "      <td>나이키운동화</td>\n",
              "      <td>트위드자켓</td>\n",
              "      <td>키즈경량패딩</td>\n",
              "      <td>가히멀티밤</td>\n",
              "    </tr>\n",
              "    <tr>\n",
              "      <th>2</th>\n",
              "      <td>2</td>\n",
              "      <td>3</td>\n",
              "      <td>행거</td>\n",
              "      <td>닌텐도스위치</td>\n",
              "      <td>널디후드집업</td>\n",
              "      <td>스타벅스텀블러</td>\n",
              "      <td>k2플라이하이크</td>\n",
              "      <td>오메가3</td>\n",
              "      <td>제주도렌트카</td>\n",
              "      <td>크록스</td>\n",
              "      <td>트렌치코트</td>\n",
              "      <td>키즈바람막이</td>\n",
              "      <td>헤라블랙쿠션</td>\n",
              "    </tr>\n",
              "    <tr>\n",
              "      <th>3</th>\n",
              "      <td>3</td>\n",
              "      <td>4</td>\n",
              "      <td>쇼파</td>\n",
              "      <td>에어팟프로</td>\n",
              "      <td>백아율오리진크림</td>\n",
              "      <td>와플팬</td>\n",
              "      <td>캠핑의자</td>\n",
              "      <td>쌀20kg</td>\n",
              "      <td>꽃배달</td>\n",
              "      <td>운동화</td>\n",
              "      <td>나이키바람막이</td>\n",
              "      <td>키즈운동화</td>\n",
              "      <td>인셀덤</td>\n",
              "    </tr>\n",
              "    <tr>\n",
              "      <th>4</th>\n",
              "      <td>4</td>\n",
              "      <td>5</td>\n",
              "      <td>침대</td>\n",
              "      <td>공기청정기</td>\n",
              "      <td>육심원가방</td>\n",
              "      <td>kf94마스크새부리형</td>\n",
              "      <td>자전거</td>\n",
              "      <td>콤부차</td>\n",
              "      <td>캠핑카렌트</td>\n",
              "      <td>뉴발란스327</td>\n",
              "      <td>블라우스</td>\n",
              "      <td>베베드피노</td>\n",
              "      <td>ahc아이크림</td>\n",
              "    </tr>\n",
              "    <tr>\n",
              "      <th>5</th>\n",
              "      <td>5</td>\n",
              "      <td>6</td>\n",
              "      <td>컴퓨터책상</td>\n",
              "      <td>냉장고</td>\n",
              "      <td>키엘오리지널머스크블랜드</td>\n",
              "      <td>텀블러</td>\n",
              "      <td>전기자전거</td>\n",
              "      <td>생수</td>\n",
              "      <td>신세계상품권</td>\n",
              "      <td>나이키에어맥스97</td>\n",
              "      <td>바람막이</td>\n",
              "      <td>아디다스키즈운동화</td>\n",
              "      <td>닥터지선크림</td>\n",
              "    </tr>\n",
              "    <tr>\n",
              "      <th>6</th>\n",
              "      <td>6</td>\n",
              "      <td>7</td>\n",
              "      <td>전신거울</td>\n",
              "      <td>노트북</td>\n",
              "      <td>미니멜리사190</td>\n",
              "      <td>마스크스트랩</td>\n",
              "      <td>텐트</td>\n",
              "      <td>그릭요거트</td>\n",
              "      <td>제주도항공권</td>\n",
              "      <td>슬리퍼</td>\n",
              "      <td>후드집업</td>\n",
              "      <td>뉴발란스키즈</td>\n",
              "      <td>피지오겔페이셜크림</td>\n",
              "    </tr>\n",
              "    <tr>\n",
              "      <th>7</th>\n",
              "      <td>7</td>\n",
              "      <td>8</td>\n",
              "      <td>책장</td>\n",
              "      <td>다이슨에어랩</td>\n",
              "      <td>양키캔들그린하우스</td>\n",
              "      <td>화분</td>\n",
              "      <td>캠핑테이블</td>\n",
              "      <td>유산균</td>\n",
              "      <td>머지포인트</td>\n",
              "      <td>아디다스운동화</td>\n",
              "      <td>여자트렌치코트</td>\n",
              "      <td>나이키키즈운동화</td>\n",
              "      <td>피지오겔</td>\n",
              "    </tr>\n",
              "    <tr>\n",
              "      <th>8</th>\n",
              "      <td>8</td>\n",
              "      <td>9</td>\n",
              "      <td>앞치마</td>\n",
              "      <td>에어프라이어</td>\n",
              "      <td>휘게릴리프선모이스처라이저</td>\n",
              "      <td>전자담배</td>\n",
              "      <td>캠핑용품</td>\n",
              "      <td>콜라겐</td>\n",
              "      <td>구글기프트카드</td>\n",
              "      <td>뉴발란스530</td>\n",
              "      <td>롱원피스</td>\n",
              "      <td>미니멜리사</td>\n",
              "      <td>헤어에센스</td>\n",
              "    </tr>\n",
              "    <tr>\n",
              "      <th>9</th>\n",
              "      <td>9</td>\n",
              "      <td>10</td>\n",
              "      <td>식탁의자</td>\n",
              "      <td>전자레인지</td>\n",
              "      <td>샬랑드파리쿠션</td>\n",
              "      <td>빨래건조대</td>\n",
              "      <td>차박텐트</td>\n",
              "      <td>햇반</td>\n",
              "      <td>생화</td>\n",
              "      <td>카드지갑</td>\n",
              "      <td>여성트레이닝세트</td>\n",
              "      <td>휠라키즈운동화</td>\n",
              "      <td>선크림</td>\n",
              "    </tr>\n",
              "  </tbody>\n",
              "</table>\n",
              "</div>"
            ],
            "text/plain": [
              "   Unnamed: 0  순위     가구      디지털  ...       패션잡화      패션의류       출산육아      화장품미용\n",
              "0           0   1     책상      마우스  ...  나이키데이브레이크       원피스      크록스키즈      바디미스트\n",
              "1           1   2    화장대  무선키보드세트  ...     나이키운동화     트위드자켓     키즈경량패딩      가히멀티밤\n",
              "2           2   3     행거   닌텐도스위치  ...        크록스     트렌치코트     키즈바람막이     헤라블랙쿠션\n",
              "3           3   4     쇼파    에어팟프로  ...        운동화   나이키바람막이      키즈운동화        인셀덤\n",
              "4           4   5     침대    공기청정기  ...    뉴발란스327      블라우스      베베드피노    ahc아이크림\n",
              "5           5   6  컴퓨터책상      냉장고  ...  나이키에어맥스97      바람막이  아디다스키즈운동화     닥터지선크림\n",
              "6           6   7   전신거울      노트북  ...        슬리퍼      후드집업     뉴발란스키즈  피지오겔페이셜크림\n",
              "7           7   8     책장   다이슨에어랩  ...    아디다스운동화   여자트렌치코트   나이키키즈운동화       피지오겔\n",
              "8           8   9    앞치마   에어프라이어  ...    뉴발란스530      롱원피스      미니멜리사      헤어에센스\n",
              "9           9  10   식탁의자    전자레인지  ...       카드지갑  여성트레이닝세트    휠라키즈운동화        선크림\n",
              "\n",
              "[10 rows x 13 columns]"
            ]
          },
          "metadata": {},
          "execution_count": 4
        }
      ]
    },
    {
      "cell_type": "code",
      "metadata": {
        "id": "fmRC6TJAcXat"
      },
      "source": [
        "top10=top10.drop('Unnamed: 0',axis=1)"
      ],
      "execution_count": 5,
      "outputs": []
    },
    {
      "cell_type": "code",
      "metadata": {
        "colab": {
          "base_uri": "https://localhost:8080/",
          "height": 716
        },
        "id": "1x9-NaSEcXdb",
        "outputId": "ca5cfa2c-f9f8-42ab-8e19-a4b8a838a97d"
      },
      "source": [
        "top10"
      ],
      "execution_count": 6,
      "outputs": [
        {
          "output_type": "execute_result",
          "data": {
            "text/html": [
              "<div>\n",
              "<style scoped>\n",
              "    .dataframe tbody tr th:only-of-type {\n",
              "        vertical-align: middle;\n",
              "    }\n",
              "\n",
              "    .dataframe tbody tr th {\n",
              "        vertical-align: top;\n",
              "    }\n",
              "\n",
              "    .dataframe thead th {\n",
              "        text-align: right;\n",
              "    }\n",
              "</style>\n",
              "<table border=\"1\" class=\"dataframe\">\n",
              "  <thead>\n",
              "    <tr style=\"text-align: right;\">\n",
              "      <th></th>\n",
              "      <th>순위</th>\n",
              "      <th>가구</th>\n",
              "      <th>디지털</th>\n",
              "      <th>면세점</th>\n",
              "      <th>생활건강</th>\n",
              "      <th>스포츠레저</th>\n",
              "      <th>식품</th>\n",
              "      <th>여가생활편의</th>\n",
              "      <th>패션잡화</th>\n",
              "      <th>패션의류</th>\n",
              "      <th>출산육아</th>\n",
              "      <th>화장품미용</th>\n",
              "    </tr>\n",
              "  </thead>\n",
              "  <tbody>\n",
              "    <tr>\n",
              "      <th>0</th>\n",
              "      <td>1</td>\n",
              "      <td>책상</td>\n",
              "      <td>마우스</td>\n",
              "      <td>불리목욕하는여인</td>\n",
              "      <td>마스크</td>\n",
              "      <td>여성골프웨어</td>\n",
              "      <td>닭가슴살</td>\n",
              "      <td>제주렌트카</td>\n",
              "      <td>나이키데이브레이크</td>\n",
              "      <td>원피스</td>\n",
              "      <td>크록스키즈</td>\n",
              "      <td>바디미스트</td>\n",
              "    </tr>\n",
              "    <tr>\n",
              "      <th>1</th>\n",
              "      <td>2</td>\n",
              "      <td>화장대</td>\n",
              "      <td>무선키보드세트</td>\n",
              "      <td>아크메드라비반팔</td>\n",
              "      <td>kf94마스크</td>\n",
              "      <td>등산화</td>\n",
              "      <td>미역국수</td>\n",
              "      <td>문화상품권</td>\n",
              "      <td>나이키운동화</td>\n",
              "      <td>트위드자켓</td>\n",
              "      <td>키즈경량패딩</td>\n",
              "      <td>가히멀티밤</td>\n",
              "    </tr>\n",
              "    <tr>\n",
              "      <th>2</th>\n",
              "      <td>3</td>\n",
              "      <td>행거</td>\n",
              "      <td>닌텐도스위치</td>\n",
              "      <td>널디후드집업</td>\n",
              "      <td>스타벅스텀블러</td>\n",
              "      <td>k2플라이하이크</td>\n",
              "      <td>오메가3</td>\n",
              "      <td>제주도렌트카</td>\n",
              "      <td>크록스</td>\n",
              "      <td>트렌치코트</td>\n",
              "      <td>키즈바람막이</td>\n",
              "      <td>헤라블랙쿠션</td>\n",
              "    </tr>\n",
              "    <tr>\n",
              "      <th>3</th>\n",
              "      <td>4</td>\n",
              "      <td>쇼파</td>\n",
              "      <td>에어팟프로</td>\n",
              "      <td>백아율오리진크림</td>\n",
              "      <td>와플팬</td>\n",
              "      <td>캠핑의자</td>\n",
              "      <td>쌀20kg</td>\n",
              "      <td>꽃배달</td>\n",
              "      <td>운동화</td>\n",
              "      <td>나이키바람막이</td>\n",
              "      <td>키즈운동화</td>\n",
              "      <td>인셀덤</td>\n",
              "    </tr>\n",
              "    <tr>\n",
              "      <th>4</th>\n",
              "      <td>5</td>\n",
              "      <td>침대</td>\n",
              "      <td>공기청정기</td>\n",
              "      <td>육심원가방</td>\n",
              "      <td>kf94마스크새부리형</td>\n",
              "      <td>자전거</td>\n",
              "      <td>콤부차</td>\n",
              "      <td>캠핑카렌트</td>\n",
              "      <td>뉴발란스327</td>\n",
              "      <td>블라우스</td>\n",
              "      <td>베베드피노</td>\n",
              "      <td>ahc아이크림</td>\n",
              "    </tr>\n",
              "    <tr>\n",
              "      <th>5</th>\n",
              "      <td>6</td>\n",
              "      <td>컴퓨터책상</td>\n",
              "      <td>냉장고</td>\n",
              "      <td>키엘오리지널머스크블랜드</td>\n",
              "      <td>텀블러</td>\n",
              "      <td>전기자전거</td>\n",
              "      <td>생수</td>\n",
              "      <td>신세계상품권</td>\n",
              "      <td>나이키에어맥스97</td>\n",
              "      <td>바람막이</td>\n",
              "      <td>아디다스키즈운동화</td>\n",
              "      <td>닥터지선크림</td>\n",
              "    </tr>\n",
              "    <tr>\n",
              "      <th>6</th>\n",
              "      <td>7</td>\n",
              "      <td>전신거울</td>\n",
              "      <td>노트북</td>\n",
              "      <td>미니멜리사190</td>\n",
              "      <td>마스크스트랩</td>\n",
              "      <td>텐트</td>\n",
              "      <td>그릭요거트</td>\n",
              "      <td>제주도항공권</td>\n",
              "      <td>슬리퍼</td>\n",
              "      <td>후드집업</td>\n",
              "      <td>뉴발란스키즈</td>\n",
              "      <td>피지오겔페이셜크림</td>\n",
              "    </tr>\n",
              "    <tr>\n",
              "      <th>7</th>\n",
              "      <td>8</td>\n",
              "      <td>책장</td>\n",
              "      <td>다이슨에어랩</td>\n",
              "      <td>양키캔들그린하우스</td>\n",
              "      <td>화분</td>\n",
              "      <td>캠핑테이블</td>\n",
              "      <td>유산균</td>\n",
              "      <td>머지포인트</td>\n",
              "      <td>아디다스운동화</td>\n",
              "      <td>여자트렌치코트</td>\n",
              "      <td>나이키키즈운동화</td>\n",
              "      <td>피지오겔</td>\n",
              "    </tr>\n",
              "    <tr>\n",
              "      <th>8</th>\n",
              "      <td>9</td>\n",
              "      <td>앞치마</td>\n",
              "      <td>에어프라이어</td>\n",
              "      <td>휘게릴리프선모이스처라이저</td>\n",
              "      <td>전자담배</td>\n",
              "      <td>캠핑용품</td>\n",
              "      <td>콜라겐</td>\n",
              "      <td>구글기프트카드</td>\n",
              "      <td>뉴발란스530</td>\n",
              "      <td>롱원피스</td>\n",
              "      <td>미니멜리사</td>\n",
              "      <td>헤어에센스</td>\n",
              "    </tr>\n",
              "    <tr>\n",
              "      <th>9</th>\n",
              "      <td>10</td>\n",
              "      <td>식탁의자</td>\n",
              "      <td>전자레인지</td>\n",
              "      <td>샬랑드파리쿠션</td>\n",
              "      <td>빨래건조대</td>\n",
              "      <td>차박텐트</td>\n",
              "      <td>햇반</td>\n",
              "      <td>생화</td>\n",
              "      <td>카드지갑</td>\n",
              "      <td>여성트레이닝세트</td>\n",
              "      <td>휠라키즈운동화</td>\n",
              "      <td>선크림</td>\n",
              "    </tr>\n",
              "  </tbody>\n",
              "</table>\n",
              "</div>"
            ],
            "text/plain": [
              "   순위     가구      디지털            면세점  ...       패션잡화      패션의류       출산육아      화장품미용\n",
              "0   1     책상      마우스       불리목욕하는여인  ...  나이키데이브레이크       원피스      크록스키즈      바디미스트\n",
              "1   2    화장대  무선키보드세트       아크메드라비반팔  ...     나이키운동화     트위드자켓     키즈경량패딩      가히멀티밤\n",
              "2   3     행거   닌텐도스위치         널디후드집업  ...        크록스     트렌치코트     키즈바람막이     헤라블랙쿠션\n",
              "3   4     쇼파    에어팟프로       백아율오리진크림  ...        운동화   나이키바람막이      키즈운동화        인셀덤\n",
              "4   5     침대    공기청정기          육심원가방  ...    뉴발란스327      블라우스      베베드피노    ahc아이크림\n",
              "5   6  컴퓨터책상      냉장고   키엘오리지널머스크블랜드  ...  나이키에어맥스97      바람막이  아디다스키즈운동화     닥터지선크림\n",
              "6   7   전신거울      노트북       미니멜리사190  ...        슬리퍼      후드집업     뉴발란스키즈  피지오겔페이셜크림\n",
              "7   8     책장   다이슨에어랩      양키캔들그린하우스  ...    아디다스운동화   여자트렌치코트   나이키키즈운동화       피지오겔\n",
              "8   9    앞치마   에어프라이어  휘게릴리프선모이스처라이저  ...    뉴발란스530      롱원피스      미니멜리사      헤어에센스\n",
              "9  10   식탁의자    전자레인지        샬랑드파리쿠션  ...       카드지갑  여성트레이닝세트    휠라키즈운동화        선크림\n",
              "\n",
              "[10 rows x 12 columns]"
            ]
          },
          "metadata": {},
          "execution_count": 6
        }
      ]
    },
    {
      "cell_type": "code",
      "metadata": {
        "colab": {
          "base_uri": "https://localhost:8080/",
          "height": 35
        },
        "id": "kCdLRXe1nSy2",
        "outputId": "25e8fd21-5969-4e86-ed5e-a22df6117c96"
      },
      "source": [
        "top10['가구'][0]"
      ],
      "execution_count": 7,
      "outputs": [
        {
          "output_type": "execute_result",
          "data": {
            "application/vnd.google.colaboratory.intrinsic+json": {
              "type": "string"
            },
            "text/plain": [
              "'책상'"
            ]
          },
          "metadata": {},
          "execution_count": 7
        }
      ]
    },
    {
      "cell_type": "code",
      "metadata": {
        "colab": {
          "base_uri": "https://localhost:8080/"
        },
        "id": "6s7UtXYanWVz",
        "outputId": "40487843-d83b-4bb0-fec5-9dd4bbe0d0b2"
      },
      "source": [
        "type(top10['가구'][0])"
      ],
      "execution_count": 8,
      "outputs": [
        {
          "output_type": "execute_result",
          "data": {
            "text/plain": [
              "str"
            ]
          },
          "metadata": {},
          "execution_count": 8
        }
      ]
    },
    {
      "cell_type": "code",
      "metadata": {
        "colab": {
          "base_uri": "https://localhost:8080/"
        },
        "id": "Hcgmv4D8cXf_",
        "outputId": "ecc14682-a363-4ee4-b3aa-4ce08cac363c"
      },
      "source": [
        "top10.loc[:0,'가구']"
      ],
      "execution_count": 9,
      "outputs": [
        {
          "output_type": "execute_result",
          "data": {
            "text/plain": [
              "0    책상\n",
              "Name: 가구, dtype: object"
            ]
          },
          "metadata": {},
          "execution_count": 9
        }
      ]
    },
    {
      "cell_type": "code",
      "metadata": {
        "id": "KBhsXRrucXi-"
      },
      "source": [
        "import os\n",
        "import sys\n",
        "import urllib.request\n",
        "import json\n",
        "import pandas as pd\n"
      ],
      "execution_count": 10,
      "outputs": []
    },
    {
      "cell_type": "code",
      "metadata": {
        "id": "A01RWJ-agben"
      },
      "source": [
        "client_id=\"l54OU3RyAxGlGgRaggwl\"\n",
        "client_secret=\"rMEF6wnAEF\"\n"
      ],
      "execution_count": 11,
      "outputs": []
    },
    {
      "cell_type": "code",
      "metadata": {
        "id": "Rh6r4mijgbhE"
      },
      "source": [
        "url = \"https://openapi.naver.com/v1/datalab/search\";\n",
        "body = \"{\\\"startDate\\\":\\\"2021-03-01\\\",\\\"endDate\\\":\\\"2021-06-30\\\",\\\"timeUnit\\\":\\\"date\\\",\\\"keywordGroups\\\":[{\\\"groupName\\\":\\\"CJ\\\",\\\"keywords\\\":[\\\"CJ\\\"]}]}\";"
      ],
      "execution_count": 12,
      "outputs": []
    },
    {
      "cell_type": "code",
      "metadata": {
        "colab": {
          "base_uri": "https://localhost:8080/",
          "height": 53
        },
        "id": "XU0S7437jD2Q",
        "outputId": "d89b72eb-fefc-4142-856a-3e5c73e58556"
      },
      "source": [
        "body"
      ],
      "execution_count": 13,
      "outputs": [
        {
          "output_type": "execute_result",
          "data": {
            "application/vnd.google.colaboratory.intrinsic+json": {
              "type": "string"
            },
            "text/plain": [
              "'{\"startDate\":\"2021-03-01\",\"endDate\":\"2021-06-30\",\"timeUnit\":\"date\",\"keywordGroups\":[{\"groupName\":\"CJ\",\"keywords\":[\"CJ\"]}]}'"
            ]
          },
          "metadata": {},
          "execution_count": 13
        }
      ]
    },
    {
      "cell_type": "code",
      "metadata": {
        "id": "LVyJuAX2hjAD"
      },
      "source": [
        "json_body=json.loads(body)"
      ],
      "execution_count": 14,
      "outputs": []
    },
    {
      "cell_type": "code",
      "metadata": {
        "colab": {
          "base_uri": "https://localhost:8080/"
        },
        "id": "wyeqZd6vhjFR",
        "outputId": "618c5158-2220-4a9b-9b19-edd0f809f499"
      },
      "source": [
        "json_body"
      ],
      "execution_count": 15,
      "outputs": [
        {
          "output_type": "execute_result",
          "data": {
            "text/plain": [
              "{'endDate': '2021-06-30',\n",
              " 'keywordGroups': [{'groupName': 'CJ', 'keywords': ['CJ']}],\n",
              " 'startDate': '2021-03-01',\n",
              " 'timeUnit': 'date'}"
            ]
          },
          "metadata": {},
          "execution_count": 15
        }
      ]
    },
    {
      "cell_type": "code",
      "metadata": {
        "id": "Pkz4eqYuh5xP"
      },
      "source": [
        "for keyword in json_body['keywordGroups']:\n",
        "  keyword['groupName']=top10['가구'][0]\n",
        "  keyword['keywords']=list(top10.loc[:0,'가구'])"
      ],
      "execution_count": 26,
      "outputs": []
    },
    {
      "cell_type": "code",
      "metadata": {
        "id": "pnxno9uu0lrl",
        "colab": {
          "base_uri": "https://localhost:8080/"
        },
        "outputId": "a3c68ef3-90f8-411a-bfc7-11c309b504a5"
      },
      "source": [
        " keyword['keywords']"
      ],
      "execution_count": 27,
      "outputs": [
        {
          "output_type": "execute_result",
          "data": {
            "text/plain": [
              "['책상']"
            ]
          },
          "metadata": {},
          "execution_count": 27
        }
      ]
    },
    {
      "cell_type": "code",
      "metadata": {
        "colab": {
          "base_uri": "https://localhost:8080/"
        },
        "id": "LB4XSnI-jmNa",
        "outputId": "11b7a984-71bf-402e-e9b9-8fbbb3c31a11"
      },
      "source": [
        "json_body"
      ],
      "execution_count": 28,
      "outputs": [
        {
          "output_type": "execute_result",
          "data": {
            "text/plain": [
              "{'endDate': '2021-06-30',\n",
              " 'keywordGroups': [{'groupName': '책상', 'keywords': ['책상']}],\n",
              " 'startDate': '2021-03-01',\n",
              " 'timeUnit': 'date'}"
            ]
          },
          "metadata": {},
          "execution_count": 28
        }
      ]
    },
    {
      "cell_type": "code",
      "metadata": {
        "id": "u3drUg7vh541"
      },
      "source": [
        "body=json.dumps(json_body,ensure_ascii=False)"
      ],
      "execution_count": 29,
      "outputs": []
    },
    {
      "cell_type": "code",
      "metadata": {
        "id": "a9WHH9k2jBy_"
      },
      "source": [
        "body=str(body)"
      ],
      "execution_count": 30,
      "outputs": []
    },
    {
      "cell_type": "code",
      "metadata": {
        "colab": {
          "base_uri": "https://localhost:8080/",
          "height": 53
        },
        "id": "LKc-1sCmlm3w",
        "outputId": "7a26a456-21ba-445b-c3d1-a051d43451c2"
      },
      "source": [
        "body"
      ],
      "execution_count": 31,
      "outputs": [
        {
          "output_type": "execute_result",
          "data": {
            "application/vnd.google.colaboratory.intrinsic+json": {
              "type": "string"
            },
            "text/plain": [
              "'{\"startDate\": \"2021-03-01\", \"endDate\": \"2021-06-30\", \"timeUnit\": \"date\", \"keywordGroups\": [{\"groupName\": \"책상\", \"keywords\": [\"책상\"]}]}'"
            ]
          },
          "metadata": {},
          "execution_count": 31
        }
      ]
    },
    {
      "cell_type": "code",
      "metadata": {
        "id": "Hg4nD6JHgbj-"
      },
      "source": [
        "request = urllib.request.Request(url)\n",
        "request.add_header(\"X-Naver-Client-Id\",client_id)\n",
        "request.add_header(\"X-Naver-Client-Secret\",client_secret)\n",
        "request.add_header(\"Content-Type\",\"application/json\")\n",
        "response = urllib.request.urlopen(request, data=body.encode(\"utf-8\"))\n",
        "rescode = response.getcode()\n",
        "\n",
        "if(rescode==200):\n",
        "    response_body = response.read()\n",
        "    output_data=response_body.decode('utf-8')\n",
        "else:\n",
        "    print(\"Error Code:\" + rescode)"
      ],
      "execution_count": 32,
      "outputs": []
    },
    {
      "cell_type": "code",
      "metadata": {
        "id": "1MhTFEuAgbnH"
      },
      "source": [
        "result=json.loads(output_data)"
      ],
      "execution_count": 33,
      "outputs": []
    },
    {
      "cell_type": "code",
      "metadata": {
        "colab": {
          "base_uri": "https://localhost:8080/"
        },
        "id": "LKOB9ZGMgbp2",
        "outputId": "6de82fc8-1285-4e23-9796-30d0fc2e699d"
      },
      "source": [
        "result"
      ],
      "execution_count": 34,
      "outputs": [
        {
          "output_type": "execute_result",
          "data": {
            "text/plain": [
              "{'endDate': '2021-06-30',\n",
              " 'results': [{'data': [{'period': '2021-03-01', 'ratio': 100},\n",
              "    {'period': '2021-03-02', 'ratio': 80.61901},\n",
              "    {'period': '2021-03-03', 'ratio': 72.59395},\n",
              "    {'period': '2021-03-04', 'ratio': 68.14296},\n",
              "    {'period': '2021-03-05', 'ratio': 58.48931},\n",
              "    {'period': '2021-03-06', 'ratio': 70.71481},\n",
              "    {'period': '2021-03-07', 'ratio': 84.34045},\n",
              "    {'period': '2021-03-08', 'ratio': 74.11938},\n",
              "    {'period': '2021-03-09', 'ratio': 67.80397},\n",
              "    {'period': '2021-03-10', 'ratio': 65.18054},\n",
              "    {'period': '2021-03-11', 'ratio': 63.5151},\n",
              "    {'period': '2021-03-12', 'ratio': 59.3294},\n",
              "    {'period': '2021-03-13', 'ratio': 65.15843},\n",
              "    {'period': '2021-03-14', 'ratio': 76.07958},\n",
              "    {'period': '2021-03-15', 'ratio': 67.30287},\n",
              "    {'period': '2021-03-16', 'ratio': 63.58879},\n",
              "    {'period': '2021-03-17', 'ratio': 58.54826},\n",
              "    {'period': '2021-03-18', 'ratio': 58.1798},\n",
              "    {'period': '2021-03-19', 'ratio': 52.57184},\n",
              "    {'period': '2021-03-20', 'ratio': 64.79734},\n",
              "    {'period': '2021-03-21', 'ratio': 72.99926},\n",
              "    {'period': '2021-03-22', 'ratio': 64.2815},\n",
              "    {'period': '2021-03-23', 'ratio': 57.45762},\n",
              "    {'period': '2021-03-24', 'ratio': 55.57848},\n",
              "    {'period': '2021-03-25', 'ratio': 52.3434},\n",
              "    {'period': '2021-03-26', 'ratio': 46.44067},\n",
              "    {'period': '2021-03-27', 'ratio': 58.87988},\n",
              "    {'period': '2021-03-28', 'ratio': 69.72733},\n",
              "    {'period': '2021-03-29', 'ratio': 60.51584},\n",
              "    {'period': '2021-03-30', 'ratio': 55.40899},\n",
              "    {'period': '2021-03-31', 'ratio': 53.16875},\n",
              "    {'period': '2021-04-01', 'ratio': 49.40309},\n",
              "    {'period': '2021-04-02', 'ratio': 44.84156},\n",
              "    {'period': '2021-04-03', 'ratio': 60.58216},\n",
              "    {'period': '2021-04-04', 'ratio': 67.71554},\n",
              "    {'period': '2021-04-05', 'ratio': 58.87988},\n",
              "    {'period': '2021-04-06', 'ratio': 53.94988},\n",
              "    {'period': '2021-04-07', 'ratio': 52.04863},\n",
              "    {'period': '2021-04-08', 'ratio': 50.86956},\n",
              "    {'period': '2021-04-09', 'ratio': 46.97126},\n",
              "    {'period': '2021-04-10', 'ratio': 50.66322},\n",
              "    {'period': '2021-04-11', 'ratio': 60.19896},\n",
              "    {'period': '2021-04-12', 'ratio': 59.49889},\n",
              "    {'period': '2021-04-13', 'ratio': 54.33308},\n",
              "    {'period': '2021-04-14', 'ratio': 52.07074},\n",
              "    {'period': '2021-04-15', 'ratio': 48.40088},\n",
              "    {'period': '2021-04-16', 'ratio': 44.81945},\n",
              "    {'period': '2021-04-17', 'ratio': 54.95946},\n",
              "    {'period': '2021-04-18', 'ratio': 61.44436},\n",
              "    {'period': '2021-04-19', 'ratio': 55.66691},\n",
              "    {'period': '2021-04-20', 'ratio': 51.85703},\n",
              "    {'period': '2021-04-21', 'ratio': 48.1577},\n",
              "    {'period': '2021-04-22', 'ratio': 49.2336},\n",
              "    {'period': '2021-04-23', 'ratio': 44.55416},\n",
              "    {'period': '2021-04-24', 'ratio': 49.77892},\n",
              "    {'period': '2021-04-25', 'ratio': 59.05674},\n",
              "    {'period': '2021-04-26', 'ratio': 48.12822},\n",
              "    {'period': '2021-04-27', 'ratio': 50.11053},\n",
              "    {'period': '2021-04-28', 'ratio': 45.95431},\n",
              "    {'period': '2021-04-29', 'ratio': 46.27118},\n",
              "    {'period': '2021-04-30', 'ratio': 41.68017},\n",
              "    {'period': '2021-05-01', 'ratio': 51.2675},\n",
              "    {'period': '2021-05-02', 'ratio': 56.49963},\n",
              "    {'period': '2021-05-03', 'ratio': 48.0619},\n",
              "    {'period': '2021-05-04', 'ratio': 46.4333},\n",
              "    {'period': '2021-05-05', 'ratio': 50.39056},\n",
              "    {'period': '2021-05-06', 'ratio': 44.15622},\n",
              "    {'period': '2021-05-07', 'ratio': 40.6927},\n",
              "    {'period': '2021-05-08', 'ratio': 42.86661},\n",
              "    {'period': '2021-05-09', 'ratio': 53.0361},\n",
              "    {'period': '2021-05-10', 'ratio': 49.93367},\n",
              "    {'period': '2021-05-11', 'ratio': 46.23434},\n",
              "    {'period': '2021-05-12', 'ratio': 43.66985},\n",
              "    {'period': '2021-05-13', 'ratio': 40.70744},\n",
              "    {'period': '2021-05-14', 'ratio': 39.57995},\n",
              "    {'period': '2021-05-15', 'ratio': 44.45099},\n",
              "    {'period': '2021-05-16', 'ratio': 57.84819},\n",
              "    {'period': '2021-05-17', 'ratio': 48.98305},\n",
              "    {'period': '2021-05-18', 'ratio': 42.77818},\n",
              "    {'period': '2021-05-19', 'ratio': 47.50184},\n",
              "    {'period': '2021-05-20', 'ratio': 46.30803},\n",
              "    {'period': '2021-05-21', 'ratio': 40.76639},\n",
              "    {'period': '2021-05-22', 'ratio': 44.73839},\n",
              "    {'period': '2021-05-23', 'ratio': 51.15696},\n",
              "    {'period': '2021-05-24', 'ratio': 48.22402},\n",
              "    {'period': '2021-05-25', 'ratio': 46.35224},\n",
              "    {'period': '2021-05-26', 'ratio': 43.87619},\n",
              "    {'period': '2021-05-27', 'ratio': 43.84672},\n",
              "    {'period': '2021-05-28', 'ratio': 40.66322},\n",
              "    {'period': '2021-05-29', 'ratio': 44.7826},\n",
              "    {'period': '2021-05-30', 'ratio': 52.38025},\n",
              "    {'period': '2021-05-31', 'ratio': 47.50184},\n",
              "    {'period': '2021-06-01', 'ratio': 45.40899},\n",
              "    {'period': '2021-06-02', 'ratio': 43.50773},\n",
              "    {'period': '2021-06-03', 'ratio': 44.22254},\n",
              "    {'period': '2021-06-04', 'ratio': 39.27044},\n",
              "    {'period': '2021-06-05', 'ratio': 43.66249},\n",
              "    {'period': '2021-06-06', 'ratio': 54.22254},\n",
              "    {'period': '2021-06-07', 'ratio': 48.9462},\n",
              "    {'period': '2021-06-08', 'ratio': 44.9521},\n",
              "    {'period': '2021-06-09', 'ratio': 41.51805},\n",
              "    {'period': '2021-06-10', 'ratio': 41.6507},\n",
              "    {'period': '2021-06-11', 'ratio': 39.22623},\n",
              "    {'period': '2021-06-12', 'ratio': 42.59395},\n",
              "    {'period': '2021-06-13', 'ratio': 51.34119},\n",
              "    {'period': '2021-06-14', 'ratio': 44.92999},\n",
              "    {'period': '2021-06-15', 'ratio': 41.56226},\n",
              "    {'period': '2021-06-16', 'ratio': 40.92851},\n",
              "    {'period': '2021-06-17', 'ratio': 39.68312},\n",
              "    {'period': '2021-06-18', 'ratio': 37.41341},\n",
              "    {'period': '2021-06-19', 'ratio': 42.43183},\n",
              "    {'period': '2021-06-20', 'ratio': 49.13043},\n",
              "    {'period': '2021-06-21', 'ratio': 44.06779},\n",
              "    {'period': '2021-06-22', 'ratio': 42.38761},\n",
              "    {'period': '2021-06-23', 'ratio': 42.33603},\n",
              "    {'period': '2021-06-24', 'ratio': 38.7546},\n",
              "    {'period': '2021-06-25', 'ratio': 35.85851},\n",
              "    {'period': '2021-06-26', 'ratio': 40.70744},\n",
              "    {'period': '2021-06-27', 'ratio': 50.18422},\n",
              "    {'period': '2021-06-28', 'ratio': 43.8025},\n",
              "    {'period': '2021-06-29', 'ratio': 42.25497},\n",
              "    {'period': '2021-06-30', 'ratio': 42.15917}],\n",
              "   'keywords': ['책상'],\n",
              "   'title': '책상'}],\n",
              " 'startDate': '2021-03-01',\n",
              " 'timeUnit': 'date'}"
            ]
          },
          "metadata": {},
          "execution_count": 34
        }
      ]
    },
    {
      "cell_type": "code",
      "metadata": {
        "id": "6v1Sg55DhScr"
      },
      "source": [
        "date = [a['period'] for a in result['results'][0]['data']]\n",
        "\n",
        "ratio = [a['ratio'] for a in result['results'][0]['data']]\n",
        "\n",
        "new=pd.DataFrame({'date':date, \n",
        "              'output':ratio})"
      ],
      "execution_count": 35,
      "outputs": []
    },
    {
      "cell_type": "code",
      "metadata": {
        "id": "96cZ2MTrhSfE",
        "colab": {
          "base_uri": "https://localhost:8080/",
          "height": 265
        },
        "outputId": "c86fbb8d-7be5-4607-ac85-000f0a471218"
      },
      "source": [
        "import matplotlib.pyplot as plt\n",
        "\n",
        "plt.plot(new.index,new['output'])\n",
        "\n",
        "for x,y in enumerate(list(new['output'])):\n",
        "  plt.text(x,y,y,fontsize=10,color=\"#ff0000\",horizontalalignment='center',verticalalignment='bottom')\n",
        "\n",
        "plt.show()"
      ],
      "execution_count": 36,
      "outputs": [
        {
          "output_type": "display_data",
          "data": {
            "image/png": "[encoded data removed]",
            "text/plain": [
              "<Figure size 432x288 with 1 Axes>"
            ]
          },
          "metadata": {
            "needs_background": "light"
          }
        }
      ]
    },
    {
      "cell_type": "code",
      "metadata": {
        "id": "QyNMBkFJhSh5"
      },
      "source": [
        ""
      ],
      "execution_count": null,
      "outputs": []
    }
  ]
}