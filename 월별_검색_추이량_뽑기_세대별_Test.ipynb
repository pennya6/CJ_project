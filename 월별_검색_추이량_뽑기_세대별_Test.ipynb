{
  "nbformat": 4,
  "nbformat_minor": 0,
  "metadata": {
    "colab": {
      "name": "월별 검색 추이량 뽑기-세대별 Test.ipynb",
      "provenance": [],
      "collapsed_sections": [],
      "authorship_tag": "ABX9TyMXOf3sSh1tZMvli4NkV1pk",
      "include_colab_link": true
    },
    "kernelspec": {
      "name": "python3",
      "display_name": "Python 3"
    },
    "language_info": {
      "name": "python"
    }
  },
  "cells": [
    {
      "cell_type": "markdown",
      "metadata": {
        "id": "view-in-github",
        "colab_type": "text"
      },
      "source": [
        "<a href=\"https://colab.research.google.com/github/pennya6/CJ_project/blob/main/%EC%9B%94%EB%B3%84_%EA%B2%80%EC%83%89_%EC%B6%94%EC%9D%B4%EB%9F%89_%EB%BD%91%EA%B8%B0_%EC%84%B8%EB%8C%80%EB%B3%84_Test.ipynb\" target=\"_parent\"><img src=\"https://colab.research.google.com/assets/colab-badge.svg\" alt=\"Open In Colab\"/></a>"
      ]
    },
    {
      "cell_type": "code",
      "metadata": {
        "colab": {
          "base_uri": "https://localhost:8080/"
        },
        "id": "_wy8oKvC7-pS",
        "outputId": "61147ce8-0c3f-4e1d-c45b-657b44cf208f"
      },
      "source": [
        "\n",
        "from google.colab import drive\n",
        "drive.mount('/content/drive')"
      ],
      "execution_count": 1,
      "outputs": [
        {
          "output_type": "stream",
          "name": "stdout",
          "text": [
            "Mounted at /content/drive\n"
          ]
        }
      ]
    },
    {
      "cell_type": "code",
      "metadata": {
        "id": "kH6jYdu-8HxL"
      },
      "source": [
        "import pandas as pd"
      ],
      "execution_count": 2,
      "outputs": []
    },
    {
      "cell_type": "code",
      "metadata": {
        "id": "yANcQx9m8HzK"
      },
      "source": [
        "top10_3_1=pd.read_csv(\"/content/drive/Shareddrives/2021 CJ 대한통운 공모전/data/crawling_data/top10/3개_세대별/3월/3_01.csv\")"
      ],
      "execution_count": 4,
      "outputs": []
    },
    {
      "cell_type": "code",
      "metadata": {
        "colab": {
          "base_uri": "https://localhost:8080/",
          "height": 359
        },
        "id": "8kNljAVy8H1q",
        "outputId": "e5855459-cb09-4f1c-a653-7a01a71c8f42"
      },
      "source": [
        "top10_3_1"
      ],
      "execution_count": 5,
      "outputs": [
        {
          "output_type": "execute_result",
          "data": {
            "text/html": [
              "<div>\n",
              "<style scoped>\n",
              "    .dataframe tbody tr th:only-of-type {\n",
              "        vertical-align: middle;\n",
              "    }\n",
              "\n",
              "    .dataframe tbody tr th {\n",
              "        vertical-align: top;\n",
              "    }\n",
              "\n",
              "    .dataframe thead th {\n",
              "        text-align: right;\n",
              "    }\n",
              "</style>\n",
              "<table border=\"1\" class=\"dataframe\">\n",
              "  <thead>\n",
              "    <tr style=\"text-align: right;\">\n",
              "      <th></th>\n",
              "      <th>순위</th>\n",
              "      <th>1</th>\n",
              "      <th>2</th>\n",
              "      <th>3</th>\n",
              "    </tr>\n",
              "  </thead>\n",
              "  <tbody>\n",
              "    <tr>\n",
              "      <th>0</th>\n",
              "      <td>1</td>\n",
              "      <td>나이키바람막이</td>\n",
              "      <td>원피스</td>\n",
              "      <td>원피스</td>\n",
              "    </tr>\n",
              "    <tr>\n",
              "      <th>1</th>\n",
              "      <td>2</td>\n",
              "      <td>바람막이</td>\n",
              "      <td>트위드자켓</td>\n",
              "      <td>트위드자켓</td>\n",
              "    </tr>\n",
              "    <tr>\n",
              "      <th>2</th>\n",
              "      <td>3</td>\n",
              "      <td>트렌치코트</td>\n",
              "      <td>트렌치코트</td>\n",
              "      <td>써스데이아일랜드원피스</td>\n",
              "    </tr>\n",
              "    <tr>\n",
              "      <th>3</th>\n",
              "      <td>4</td>\n",
              "      <td>원피스</td>\n",
              "      <td>블라우스</td>\n",
              "      <td>쥬시쥬디</td>\n",
              "    </tr>\n",
              "    <tr>\n",
              "      <th>4</th>\n",
              "      <td>5</td>\n",
              "      <td>트위드자켓</td>\n",
              "      <td>롱원피스</td>\n",
              "      <td>블라우스</td>\n",
              "    </tr>\n",
              "    <tr>\n",
              "      <th>5</th>\n",
              "      <td>6</td>\n",
              "      <td>후드집업</td>\n",
              "      <td>나이키바람막이</td>\n",
              "      <td>올리비아로렌</td>\n",
              "    </tr>\n",
              "    <tr>\n",
              "      <th>6</th>\n",
              "      <td>7</td>\n",
              "      <td>나이키맨투맨</td>\n",
              "      <td>여자트렌치코트</td>\n",
              "      <td>여성가디건</td>\n",
              "    </tr>\n",
              "    <tr>\n",
              "      <th>7</th>\n",
              "      <td>8</td>\n",
              "      <td>나이키후드집업</td>\n",
              "      <td>여성트레이닝세트</td>\n",
              "      <td>발렌시아</td>\n",
              "    </tr>\n",
              "    <tr>\n",
              "      <th>8</th>\n",
              "      <td>9</td>\n",
              "      <td>폴로가디건</td>\n",
              "      <td>여성가디건</td>\n",
              "      <td>모조에스핀</td>\n",
              "    </tr>\n",
              "    <tr>\n",
              "      <th>9</th>\n",
              "      <td>10</td>\n",
              "      <td>잠옷</td>\n",
              "      <td>바람막이</td>\n",
              "      <td>여성경량패딩</td>\n",
              "    </tr>\n",
              "  </tbody>\n",
              "</table>\n",
              "</div>"
            ],
            "text/plain": [
              "   순위        1         2            3\n",
              "0   1  나이키바람막이       원피스          원피스\n",
              "1   2     바람막이     트위드자켓        트위드자켓\n",
              "2   3    트렌치코트     트렌치코트  써스데이아일랜드원피스\n",
              "3   4      원피스      블라우스         쥬시쥬디\n",
              "4   5    트위드자켓      롱원피스         블라우스\n",
              "5   6     후드집업   나이키바람막이       올리비아로렌\n",
              "6   7   나이키맨투맨   여자트렌치코트        여성가디건\n",
              "7   8  나이키후드집업  여성트레이닝세트         발렌시아\n",
              "8   9    폴로가디건     여성가디건        모조에스핀\n",
              "9  10       잠옷      바람막이       여성경량패딩"
            ]
          },
          "metadata": {},
          "execution_count": 5
        }
      ]
    },
    {
      "cell_type": "code",
      "metadata": {
        "id": "Q-Rn7q508H4a"
      },
      "source": [
        "import os\n",
        "import sys\n",
        "import urllib.request\n",
        "import json\n",
        "import pandas as pd"
      ],
      "execution_count": 6,
      "outputs": []
    },
    {
      "cell_type": "code",
      "metadata": {
        "id": "JQa7WGLq9NTH"
      },
      "source": [
        "client_id=\"l54OU3RyAxGlGgRaggwl\"\n",
        "client_secret=\"rMEF6wnAEF\"\n",
        "url = \"https://openapi.naver.com/v1/datalab/search\";\n",
        "body = \"{\\\"startDate\\\":\\\"2021-03-01\\\",\\\"endDate\\\":\\\"2021-03-07\\\",\\\"timeUnit\\\":\\\"date\\\",\\\"keywordGroups\\\":[{\\\"groupName\\\":\\\"CJ\\\",\\\"keywords\\\":[\\\"CJ\\\"]}]}\";"
      ],
      "execution_count": 7,
      "outputs": []
    },
    {
      "cell_type": "code",
      "metadata": {
        "id": "BW0_ffk19NVW"
      },
      "source": [
        "import matplotlib.pyplot as plt"
      ],
      "execution_count": 8,
      "outputs": []
    },
    {
      "cell_type": "code",
      "metadata": {
        "id": "shvHZMHb9Na3"
      },
      "source": [
        "url = \"https://openapi.naver.com/v1/datalab/search\";\n",
        "body = \"{\\\"startDate\\\":\\\"2021-03-01\\\",\\\"endDate\\\":\\\"2021-03-31\\\",\\\"timeUnit\\\":\\\"date\\\",\\\"keywordGroups\\\":[{\\\"groupName\\\":\\\"CJ\\\",\\\"keywords\\\":[\\\"CJ\\\"]}],\\\"ages\\\":[\\\"1\\\",\\\"2\\\",\\\"3\\\",\\\"4\\\"]}\";\n",
        "json_body=json.loads(body)\n"
      ],
      "execution_count": 11,
      "outputs": []
    },
    {
      "cell_type": "code",
      "metadata": {
        "id": "lCO1-sVY9NdW"
      },
      "source": [
        "for keyword in json_body['keywordGroups']:\n",
        "  keyword['groupName']=top10_3_1['1'][0]\n",
        "  keyword['keywords']=list(top10_3_1.loc[:0,'1'])"
      ],
      "execution_count": 12,
      "outputs": []
    },
    {
      "cell_type": "code",
      "metadata": {
        "colab": {
          "base_uri": "https://localhost:8080/"
        },
        "id": "tnm7wMd1-zTM",
        "outputId": "85bf2dc9-9534-4b94-d84f-52f0ffb5ca74"
      },
      "source": [
        "keyword['keywords']"
      ],
      "execution_count": 13,
      "outputs": [
        {
          "output_type": "execute_result",
          "data": {
            "text/plain": [
              "['나이키바람막이']"
            ]
          },
          "metadata": {},
          "execution_count": 13
        }
      ]
    },
    {
      "cell_type": "code",
      "metadata": {
        "colab": {
          "base_uri": "https://localhost:8080/"
        },
        "id": "j5bHwo-e-zZj",
        "outputId": "d7988953-7d7e-4326-d983-a0c69ea2e608"
      },
      "source": [
        "json_body"
      ],
      "execution_count": 14,
      "outputs": [
        {
          "output_type": "execute_result",
          "data": {
            "text/plain": [
              "{'ages': ['1', '2', '3', '4'],\n",
              " 'endDate': '2021-03-31',\n",
              " 'keywordGroups': [{'groupName': '나이키바람막이', 'keywords': ['나이키바람막이']}],\n",
              " 'startDate': '2021-03-01',\n",
              " 'timeUnit': 'date'}"
            ]
          },
          "metadata": {},
          "execution_count": 14
        }
      ]
    },
    {
      "cell_type": "code",
      "metadata": {
        "id": "AjOnvv3d-ziK"
      },
      "source": [
        "body=json.dumps(json_body,ensure_ascii=False)"
      ],
      "execution_count": 15,
      "outputs": []
    },
    {
      "cell_type": "code",
      "metadata": {
        "id": "qpsmEEmI-4cX"
      },
      "source": [
        "body=str(body)"
      ],
      "execution_count": 16,
      "outputs": []
    },
    {
      "cell_type": "code",
      "metadata": {
        "id": "7zrFR9es-4fI"
      },
      "source": [
        "request = urllib.request.Request(url)\n",
        "request.add_header(\"X-Naver-Client-Id\",client_id)\n",
        "request.add_header(\"X-Naver-Client-Secret\",client_secret)\n",
        "request.add_header(\"Content-Type\",\"application/json\")\n",
        "response = urllib.request.urlopen(request, data=body.encode(\"utf-8\"))\n",
        "rescode = response.getcode()\n",
        "\n",
        "if(rescode==200):\n",
        "    response_body = response.read()\n",
        "    output_data=response_body.decode('utf-8')\n",
        "else:\n",
        "    print(\"Error Code:\" + rescode)"
      ],
      "execution_count": 17,
      "outputs": []
    },
    {
      "cell_type": "code",
      "metadata": {
        "id": "gnczFHEV-4ia"
      },
      "source": [
        "\n",
        "result=json.loads(output_data)"
      ],
      "execution_count": 18,
      "outputs": []
    },
    {
      "cell_type": "code",
      "metadata": {
        "colab": {
          "base_uri": "https://localhost:8080/"
        },
        "id": "rrNC_Eeb-4lY",
        "outputId": "d6116371-dee1-46b2-c96b-bafac15dd045"
      },
      "source": [
        "\n",
        "result"
      ],
      "execution_count": 19,
      "outputs": [
        {
          "output_type": "execute_result",
          "data": {
            "text/plain": [
              "{'endDate': '2021-03-31',\n",
              " 'results': [{'data': [{'period': '2021-03-01', 'ratio': 76.30494},\n",
              "    {'period': '2021-03-02', 'ratio': 53.04487},\n",
              "    {'period': '2021-03-03', 'ratio': 52.1749},\n",
              "    {'period': '2021-03-04', 'ratio': 52.58699},\n",
              "    {'period': '2021-03-05', 'ratio': 49.26739},\n",
              "    {'period': '2021-03-06', 'ratio': 75.93864},\n",
              "    {'period': '2021-03-07', 'ratio': 89.99542},\n",
              "    {'period': '2021-03-08', 'ratio': 76.39652},\n",
              "    {'period': '2021-03-09', 'ratio': 70.69597},\n",
              "    {'period': '2021-03-10', 'ratio': 80.79212},\n",
              "    {'period': '2021-03-11', 'ratio': 81.54761},\n",
              "    {'period': '2021-03-12', 'ratio': 66.57509},\n",
              "    {'period': '2021-03-13', 'ratio': 82.57783},\n",
              "    {'period': '2021-03-14', 'ratio': 100},\n",
              "    {'period': '2021-03-15', 'ratio': 86.03479},\n",
              "    {'period': '2021-03-16', 'ratio': 80.56318},\n",
              "    {'period': '2021-03-17', 'ratio': 74.45054},\n",
              "    {'period': '2021-03-18', 'ratio': 68.06318},\n",
              "    {'period': '2021-03-19', 'ratio': 66.43772},\n",
              "    {'period': '2021-03-20', 'ratio': 84.43223},\n",
              "    {'period': '2021-03-21', 'ratio': 98.8782},\n",
              "    {'period': '2021-03-22', 'ratio': 69.0934},\n",
              "    {'period': '2021-03-23', 'ratio': 64.12545},\n",
              "    {'period': '2021-03-24', 'ratio': 63.34706},\n",
              "    {'period': '2021-03-25', 'ratio': 63.5989},\n",
              "    {'period': '2021-03-26', 'ratio': 62.38553},\n",
              "    {'period': '2021-03-27', 'ratio': 80.83791},\n",
              "    {'period': '2021-03-28', 'ratio': 92.17032},\n",
              "    {'period': '2021-03-29', 'ratio': 75.27472},\n",
              "    {'period': '2021-03-30', 'ratio': 64.94963},\n",
              "    {'period': '2021-03-31', 'ratio': 67.90293}],\n",
              "   'keywords': ['나이키바람막이'],\n",
              "   'title': '나이키바람막이'}],\n",
              " 'startDate': '2021-03-01',\n",
              " 'timeUnit': 'date'}"
            ]
          },
          "metadata": {},
          "execution_count": 19
        }
      ]
    },
    {
      "cell_type": "code",
      "metadata": {
        "id": "bHr9axv--4oL"
      },
      "source": [
        "date = [a['period'] for a in result['results'][0]['data']]\n",
        "\n",
        "ratio = [a['ratio'] for a in result['results'][0]['data']]\n",
        "\n",
        "new=pd.DataFrame({'date':date, \n",
        "              'output':ratio})"
      ],
      "execution_count": 20,
      "outputs": []
    },
    {
      "cell_type": "code",
      "metadata": {
        "colab": {
          "base_uri": "https://localhost:8080/",
          "height": 265
        },
        "id": "oqyGkUz0_CZ3",
        "outputId": "d13333e8-7973-41a2-d154-53077652c5bd"
      },
      "source": [
        "import matplotlib.pyplot as plt\n",
        "\n",
        "plt.plot(new.index,new['output'])\n",
        "\n",
        "for x,y in enumerate(list(new['output'])):\n",
        "  plt.text(x,y,y,fontsize=10,color=\"#ff0000\",horizontalalignment='center',verticalalignment='bottom')\n",
        "\n",
        "plt.show()"
      ],
      "execution_count": 21,
      "outputs": [
        {
          "output_type": "display_data",
          "data": {
            "image/png": "[encoded data removed]",
            "text/plain": [
              "<Figure size 432x288 with 1 Axes>"
            ]
          },
          "metadata": {
            "needs_background": "light"
          }
        }
      ]
    }
  ]
}