{
  "nbformat": 4,
  "nbformat_minor": 0,
  "metadata": {
    "colab": {
      "name": "크롤링-시연api사용(쇼핑인사이트활용).ipynb",
      "provenance": [],
      "authorship_tag": "ABX9TyN5Oy7zPKrmN0mVPbp3DgaV",
      "include_colab_link": true
    },
    "kernelspec": {
      "name": "python3",
      "display_name": "Python 3"
    },
    "language_info": {
      "name": "python"
    }
  },
  "cells": [
    {
      "cell_type": "markdown",
      "metadata": {
        "id": "view-in-github",
        "colab_type": "text"
      },
      "source": [
        "<a href=\"https://colab.research.google.com/github/pennya6/CJ_project/blob/main/%ED%81%AC%EB%A1%A4%EB%A7%81_%EC%8B%9C%EC%97%B0api%EC%82%AC%EC%9A%A9_Test(%EC%87%BC%ED%95%91%EC%9D%B8%EC%82%AC%EC%9D%B4%ED%8A%B8%ED%99%9C%EC%9A%A9).ipynb\" target=\"_parent\"><img src=\"https://colab.research.google.com/assets/colab-badge.svg\" alt=\"Open In Colab\"/></a>"
      ]
    },
    {
      "cell_type": "code",
      "metadata": {
        "id": "Jpia9selBIwS"
      },
      "source": [
        "#https://yobro.tistory.com/177?category=819175"
      ],
      "execution_count": null,
      "outputs": []
    },
    {
      "cell_type": "code",
      "metadata": {
        "id": "etYlDg5b5VeW"
      },
      "source": [
        "import os\n",
        "import sys\n",
        "import urllib.request\n",
        "import json\n",
        "import pandas as pd\n"
      ],
      "execution_count": null,
      "outputs": []
    },
    {
      "cell_type": "code",
      "metadata": {
        "id": "V4bU56rn5joy"
      },
      "source": [
        "client_id = \"xwXqTPunydI8YepJl1Ye\"\n",
        "client_secret = \"wLD28eqYjF\"\n",
        "url = \"https://openapi.naver.com/v1/datalab/shopping/categories\";"
      ],
      "execution_count": null,
      "outputs": []
    },
    {
      "cell_type": "code",
      "metadata": {
        "id": "v_5DhFKJ54gs"
      },
      "source": [
        "\n",
        "body = \"{\\\"startDate\\\":\\\"2021-01-01\\\",\\\"endDate\\\":\\\"2021-10-01\\\",\\\"timeUnit\\\":\\\"month\\\",\\\"category\\\":[{\\\"name\\\":\\\"사이다\\\",\\\"param\\\":[\\\"50002253\\\"]},{\\\"name\\\":\\\"콜라\\\",\\\"param\\\":[\\\"50002254\\\"]}],\\\"device\\\":\\\"pc\\\",\\\"ages\\\":[\\\"20\\\",\\\"30\\\"],\\\"gender\\\":\\\"f\\\"}\";\n"
      ],
      "execution_count": null,
      "outputs": []
    },
    {
      "cell_type": "code",
      "metadata": {
        "id": "6ZbGfPXh5jrf"
      },
      "source": [
        "\n",
        "request = urllib.request.Request(url)\n",
        "request.add_header(\"X-Naver-Client-Id\",client_id)\n",
        "request.add_header(\"X-Naver-Client-Secret\",client_secret)\n",
        "request.add_header(\"Content-Type\",\"application/json\")\n",
        "response = urllib.request.urlopen(request, data=body.encode(\"utf-8\"))\n",
        "rescode = response.getcode()\n",
        "if(rescode==200):\n",
        "    response_body = response.read()\n",
        "    scraped=response_body.decode('utf-8')\n",
        "else:\n",
        "    print(\"Error Code:\" + rescode)"
      ],
      "execution_count": null,
      "outputs": []
    },
    {
      "cell_type": "code",
      "metadata": {
        "id": "geqQeucE5juA"
      },
      "source": [
        "data=json.loads(scraped)"
      ],
      "execution_count": null,
      "outputs": []
    },
    {
      "cell_type": "code",
      "metadata": {
        "colab": {
          "base_uri": "https://localhost:8080/"
        },
        "id": "0lmrlCG35jwP",
        "outputId": "bbda56e6-71e8-4943-aadc-74db8e62af16"
      },
      "source": [
        "data"
      ],
      "execution_count": null,
      "outputs": [
        {
          "output_type": "execute_result",
          "data": {
            "text/plain": [
              "{'endDate': '2021-10-01',\n",
              " 'results': [{'category': ['50002253'],\n",
              "   'data': [{'period': '2021-01-01', 'ratio': 26.40303},\n",
              "    {'period': '2021-02-01', 'ratio': 27.16143},\n",
              "    {'period': '2021-03-01', 'ratio': 39.11159},\n",
              "    {'period': '2021-04-01', 'ratio': 40.87757},\n",
              "    {'period': '2021-05-01', 'ratio': 39.52329},\n",
              "    {'period': '2021-06-01', 'ratio': 42.74106},\n",
              "    {'period': '2021-07-01', 'ratio': 39.6858},\n",
              "    {'period': '2021-08-01', 'ratio': 41.75514},\n",
              "    {'period': '2021-09-01', 'ratio': 43.01191}],\n",
              "   'title': '사이다'},\n",
              "  {'category': ['50002254'],\n",
              "   'data': [{'period': '2021-01-01', 'ratio': 63.35861},\n",
              "    {'period': '2021-02-01', 'ratio': 52.17768},\n",
              "    {'period': '2021-03-01', 'ratio': 67.96316},\n",
              "    {'period': '2021-04-01', 'ratio': 74.91874},\n",
              "    {'period': '2021-05-01', 'ratio': 76.57638},\n",
              "    {'period': '2021-06-01', 'ratio': 99.2091},\n",
              "    {'period': '2021-07-01', 'ratio': 100},\n",
              "    {'period': '2021-08-01', 'ratio': 93.62946},\n",
              "    {'period': '2021-09-01', 'ratio': 93.27193}],\n",
              "   'title': '콜라'}],\n",
              " 'startDate': '2021-01-01',\n",
              " 'timeUnit': 'month'}"
            ]
          },
          "metadata": {},
          "execution_count": 48
        }
      ]
    },
    {
      "cell_type": "code",
      "metadata": {
        "id": "_3BeT_jB5jyx"
      },
      "source": [
        "date = [a['period'] for a in result['results'][0]['data']]\n",
        "\n",
        "corona_ratio = [a['ratio'] for a in result['results'][0]['data']]\n",
        "coronavirus_ratio = [a['ratio'] for a in result['results'][1]['data']]\n",
        "\n",
        "new=pd.DataFrame({'date':date, \n",
        "              '사이다':corona_ratio,\n",
        "              '콜라':coronavirus_ratio})"
      ],
      "execution_count": null,
      "outputs": []
    },
    {
      "cell_type": "code",
      "metadata": {
        "colab": {
          "base_uri": "https://localhost:8080/",
          "height": 331
        },
        "id": "TWtfFtoREJCI",
        "outputId": "3b72a718-d62f-4fb3-9fd6-4e35f1efc5a1"
      },
      "source": [
        "new"
      ],
      "execution_count": null,
      "outputs": [
        {
          "output_type": "execute_result",
          "data": {
            "text/html": [
              "<div>\n",
              "<style scoped>\n",
              "    .dataframe tbody tr th:only-of-type {\n",
              "        vertical-align: middle;\n",
              "    }\n",
              "\n",
              "    .dataframe tbody tr th {\n",
              "        vertical-align: top;\n",
              "    }\n",
              "\n",
              "    .dataframe thead th {\n",
              "        text-align: right;\n",
              "    }\n",
              "</style>\n",
              "<table border=\"1\" class=\"dataframe\">\n",
              "  <thead>\n",
              "    <tr style=\"text-align: right;\">\n",
              "      <th></th>\n",
              "      <th>date</th>\n",
              "      <th>사이다</th>\n",
              "      <th>콜라</th>\n",
              "    </tr>\n",
              "  </thead>\n",
              "  <tbody>\n",
              "    <tr>\n",
              "      <th>0</th>\n",
              "      <td>2021-01-01</td>\n",
              "      <td>26.40303</td>\n",
              "      <td>63.35861</td>\n",
              "    </tr>\n",
              "    <tr>\n",
              "      <th>1</th>\n",
              "      <td>2021-02-01</td>\n",
              "      <td>27.16143</td>\n",
              "      <td>52.17768</td>\n",
              "    </tr>\n",
              "    <tr>\n",
              "      <th>2</th>\n",
              "      <td>2021-03-01</td>\n",
              "      <td>39.11159</td>\n",
              "      <td>67.96316</td>\n",
              "    </tr>\n",
              "    <tr>\n",
              "      <th>3</th>\n",
              "      <td>2021-04-01</td>\n",
              "      <td>40.87757</td>\n",
              "      <td>74.91874</td>\n",
              "    </tr>\n",
              "    <tr>\n",
              "      <th>4</th>\n",
              "      <td>2021-05-01</td>\n",
              "      <td>39.52329</td>\n",
              "      <td>76.57638</td>\n",
              "    </tr>\n",
              "    <tr>\n",
              "      <th>5</th>\n",
              "      <td>2021-06-01</td>\n",
              "      <td>42.74106</td>\n",
              "      <td>99.20910</td>\n",
              "    </tr>\n",
              "    <tr>\n",
              "      <th>6</th>\n",
              "      <td>2021-07-01</td>\n",
              "      <td>39.68580</td>\n",
              "      <td>100.00000</td>\n",
              "    </tr>\n",
              "    <tr>\n",
              "      <th>7</th>\n",
              "      <td>2021-08-01</td>\n",
              "      <td>41.75514</td>\n",
              "      <td>93.62946</td>\n",
              "    </tr>\n",
              "    <tr>\n",
              "      <th>8</th>\n",
              "      <td>2021-09-01</td>\n",
              "      <td>43.01191</td>\n",
              "      <td>93.27193</td>\n",
              "    </tr>\n",
              "  </tbody>\n",
              "</table>\n",
              "</div>"
            ],
            "text/plain": [
              "         date       사이다         콜라\n",
              "0  2021-01-01  26.40303   63.35861\n",
              "1  2021-02-01  27.16143   52.17768\n",
              "2  2021-03-01  39.11159   67.96316\n",
              "3  2021-04-01  40.87757   74.91874\n",
              "4  2021-05-01  39.52329   76.57638\n",
              "5  2021-06-01  42.74106   99.20910\n",
              "6  2021-07-01  39.68580  100.00000\n",
              "7  2021-08-01  41.75514   93.62946\n",
              "8  2021-09-01  43.01191   93.27193"
            ]
          },
          "metadata": {},
          "execution_count": 63
        }
      ]
    },
    {
      "cell_type": "code",
      "metadata": {
        "colab": {
          "base_uri": "https://localhost:8080/",
          "height": 648
        },
        "id": "GsZAkuF7Cj06",
        "outputId": "7341d658-7bd5-4de7-e1aa-707dde56521c"
      },
      "source": [
        "import matplotlib.pyplot as plt\n",
        "\n",
        "plt.plot(new.index,new['사이다'])\n",
        "for x,y in enumerate(list(new['사이다'])):\n",
        "  plt.text(x,y,y,fontsize=10,color=\"#ff0000\",horizontalalignment='center',verticalalignment='bottom')\n",
        "\n",
        "plt.plot(new.index,new['콜라'])\n",
        "for x,y in enumerate(list(new['콜라'])):\n",
        "  plt.text(x,y,y,fontsize=10,color=\"#ff0000\",horizontalalignment='center',verticalalignment='bottom')\n",
        "\n",
        "plt.legend(['사이다','콜라'],loc='upper left')\n",
        "plt.show()"
      ],
      "execution_count": null,
      "outputs": [
        {
          "output_type": "stream",
          "name": "stderr",
          "text": [
            "/usr/local/lib/python3.7/dist-packages/matplotlib/backends/backend_agg.py:214: RuntimeWarning: Glyph 49324 missing from current font.\n",
            "  font.set_text(s, 0.0, flags=flags)\n",
            "/usr/local/lib/python3.7/dist-packages/matplotlib/backends/backend_agg.py:214: RuntimeWarning: Glyph 51060 missing from current font.\n",
            "  font.set_text(s, 0.0, flags=flags)\n",
            "/usr/local/lib/python3.7/dist-packages/matplotlib/backends/backend_agg.py:214: RuntimeWarning: Glyph 45796 missing from current font.\n",
            "  font.set_text(s, 0.0, flags=flags)\n",
            "/usr/local/lib/python3.7/dist-packages/matplotlib/backends/backend_agg.py:214: RuntimeWarning: Glyph 53084 missing from current font.\n",
            "  font.set_text(s, 0.0, flags=flags)\n",
            "/usr/local/lib/python3.7/dist-packages/matplotlib/backends/backend_agg.py:214: RuntimeWarning: Glyph 46972 missing from current font.\n",
            "  font.set_text(s, 0.0, flags=flags)\n",
            "/usr/local/lib/python3.7/dist-packages/matplotlib/backends/backend_agg.py:183: RuntimeWarning: Glyph 49324 missing from current font.\n",
            "  font.set_text(s, 0, flags=flags)\n",
            "/usr/local/lib/python3.7/dist-packages/matplotlib/backends/backend_agg.py:183: RuntimeWarning: Glyph 51060 missing from current font.\n",
            "  font.set_text(s, 0, flags=flags)\n",
            "/usr/local/lib/python3.7/dist-packages/matplotlib/backends/backend_agg.py:183: RuntimeWarning: Glyph 45796 missing from current font.\n",
            "  font.set_text(s, 0, flags=flags)\n",
            "/usr/local/lib/python3.7/dist-packages/matplotlib/backends/backend_agg.py:183: RuntimeWarning: Glyph 53084 missing from current font.\n",
            "  font.set_text(s, 0, flags=flags)\n",
            "/usr/local/lib/python3.7/dist-packages/matplotlib/backends/backend_agg.py:183: RuntimeWarning: Glyph 46972 missing from current font.\n",
            "  font.set_text(s, 0, flags=flags)\n"
          ]
        },
        {
          "output_type": "display_data",
          "data": {
            "image/png": "[encoded data removed]",
            "text/plain": [
              "<Figure size 432x288 with 1 Axes>"
            ]
          },
          "metadata": {
            "needs_background": "light"
          }
        }
      ]
    },
    {
      "cell_type": "code",
      "metadata": {
        "id": "xwcRA5cGCj3f"
      },
      "source": [
        ""
      ],
      "execution_count": null,
      "outputs": []
    },
    {
      "cell_type": "code",
      "metadata": {
        "id": "JHPO6d1DCj5v"
      },
      "source": [
        ""
      ],
      "execution_count": null,
      "outputs": []
    },
    {
      "cell_type": "code",
      "metadata": {
        "id": "QIBVgmpOCj8o"
      },
      "source": [
        ""
      ],
      "execution_count": null,
      "outputs": []
    }
  ]
}